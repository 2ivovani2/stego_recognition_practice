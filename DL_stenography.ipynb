{
 "cells": [
  {
   "cell_type": "markdown",
   "id": "d1be0ecc",
   "metadata": {},
   "source": [
    "# СТЕГОАНАЛИЗ ИЗОБРАЖЕНИЙ С ПОМОЩЬЮ ГЛУБОКОГО МАШИННОГО ОБУЧЕНИЯ "
   ]
  },
  {
   "cell_type": "markdown",
   "id": "fe6a759b",
   "metadata": {},
   "source": [
    "## Аннотация\n",
    "Рассматривается современное состояние проблемы стегоанализа цифровых изображений, направленной на исследование и разработку эффективных методов выявления стеганографически скрытых (визуально незаметных) сообщений в контейнерах- изображениях."
   ]
  },
  {
   "cell_type": "markdown",
   "id": "2d9ce9c3",
   "metadata": {},
   "source": [
    "## Содержание\n",
    "\n",
    "1. [Импорт необходимых библиотек](#first)\n",
    "2. [Получение и предобработка данных](#second)"
   ]
  },
  {
   "cell_type": "markdown",
   "id": "02df71c7",
   "metadata": {},
   "source": [
    "## 1. Импорт необходимых библиотек\n",
    "<span id=\"first\"></span>"
   ]
  },
  {
   "cell_type": "code",
   "execution_count": 78,
   "id": "3cf110cb",
   "metadata": {},
   "outputs": [],
   "source": [
    "import pandas as pd\n",
    "import numpy as np\n",
    "import matplotlib.pyplot as plt\n",
    "\n",
    "from PIL import Image\n",
    "from skimage import io, transform\n",
    "from IPython.display import clear_output\n",
    "\n",
    "from sklearn.utils import shuffle\n",
    "from sklearn.metrics import accuracy_score, f1_score\n",
    "\n",
    "import torch, torchvision\n",
    "from torchvision import transforms\n",
    "from torch.utils.data import Dataset, DataLoader\n",
    "from torch import nn\n",
    "import torch.nn.functional as F\n",
    "\n",
    "import os\n",
    "import string\n",
    "import random\n",
    "from tqdm import tqdm\n",
    "import time\n",
    "import warnings\n",
    "\n",
    "from stegano import exifHeader"
   ]
  },
  {
   "cell_type": "code",
   "execution_count": 79,
   "id": "00348049",
   "metadata": {},
   "outputs": [],
   "source": [
    "warnings.filterwarnings(\"ignore\")"
   ]
  },
  {
   "cell_type": "markdown",
   "id": "4e5645b9",
   "metadata": {},
   "source": [
    "## 2. Получение и предобработка данных"
   ]
  },
  {
   "cell_type": "code",
   "execution_count": 11,
   "id": "14367cbb",
   "metadata": {},
   "outputs": [
    {
     "name": "stdout",
     "output_type": "stream",
     "text": [
      "<class 'pandas.core.frame.DataFrame'>\n",
      "Int64Index: 8000 entries, 0 to 7999\n",
      "Data columns (total 2 columns):\n",
      " #   Column        Non-Null Count  Dtype \n",
      "---  ------        --------------  ----- \n",
      " 0   picture_link  8000 non-null   object\n",
      " 1   is_clear      8000 non-null   int32 \n",
      "dtypes: int32(1), object(1)\n",
      "memory usage: 156.2+ KB\n"
     ]
    },
    {
     "data": {
      "text/html": [
       "<div>\n",
       "<style scoped>\n",
       "    .dataframe tbody tr th:only-of-type {\n",
       "        vertical-align: middle;\n",
       "    }\n",
       "\n",
       "    .dataframe tbody tr th {\n",
       "        vertical-align: top;\n",
       "    }\n",
       "\n",
       "    .dataframe thead th {\n",
       "        text-align: right;\n",
       "    }\n",
       "</style>\n",
       "<table border=\"1\" class=\"dataframe\">\n",
       "  <thead>\n",
       "    <tr style=\"text-align: right;\">\n",
       "      <th></th>\n",
       "      <th>picture_link</th>\n",
       "      <th>is_clear</th>\n",
       "    </tr>\n",
       "  </thead>\n",
       "  <tbody>\n",
       "    <tr>\n",
       "      <th>0</th>\n",
       "      <td>data/cat.3192.jpg</td>\n",
       "      <td>1</td>\n",
       "    </tr>\n",
       "    <tr>\n",
       "      <th>1</th>\n",
       "      <td>data/cat.3948.jpg</td>\n",
       "      <td>1</td>\n",
       "    </tr>\n",
       "    <tr>\n",
       "      <th>2</th>\n",
       "      <td>data/dog.849.jpg</td>\n",
       "      <td>0</td>\n",
       "    </tr>\n",
       "    <tr>\n",
       "      <th>3</th>\n",
       "      <td>data/dog.288.jpg</td>\n",
       "      <td>0</td>\n",
       "    </tr>\n",
       "    <tr>\n",
       "      <th>4</th>\n",
       "      <td>data/dog.3088.jpg</td>\n",
       "      <td>0</td>\n",
       "    </tr>\n",
       "  </tbody>\n",
       "</table>\n",
       "</div>"
      ],
      "text/plain": [
       "        picture_link  is_clear\n",
       "0  data/cat.3192.jpg         1\n",
       "1  data/cat.3948.jpg         1\n",
       "2   data/dog.849.jpg         0\n",
       "3   data/dog.288.jpg         0\n",
       "4  data/dog.3088.jpg         0"
      ]
     },
     "execution_count": 11,
     "metadata": {},
     "output_type": "execute_result"
    }
   ],
   "source": [
    "pictures_names = os.listdir('data/')\n",
    "\n",
    "pictures_clear = pictures_names[:round(len(pictures_names) * 0.65)]\n",
    "pictures_clear_df = pd.DataFrame({\n",
    "    \"picture_link\": pictures_clear,\n",
    "    \"is_clear\": np.ones(len(pictures_clear), dtype=int)\n",
    "})\n",
    "\n",
    "pictures_graphed = pictures_names[round(len(pictures_names) * 0.65):]\n",
    "pictures_graphed_df = pd.DataFrame({\n",
    "    \"picture_link\": pictures_graphed,\n",
    "    \"is_clear\": np.zeros(len(pictures_graphed), dtype=int)\n",
    "})\n",
    "\n",
    "data = shuffle(pd.concat([pictures_clear_df, pictures_graphed_df]))\n",
    "data.reset_index(drop=True, inplace=True)\n",
    "data.picture_link = data.picture_link.apply(lambda val: \"data/\" + val)\n",
    "data = data[data.picture_link != \"data/.DS_Store\"]\n",
    "\n",
    "def image_resizing(link):\n",
    "    img = Image.open(link)\n",
    "    img = img.resize((64,64))\n",
    "    img.save(link)\n",
    "    return link\n",
    "\n",
    "data.picture_link.apply(image_resizing)\n",
    "\n",
    "data.info()\n",
    "data.head()"
   ]
  },
  {
   "cell_type": "code",
   "execution_count": 12,
   "id": "ce342df4",
   "metadata": {},
   "outputs": [
    {
     "data": {
      "image/png": "[encoded data removed]",
      "text/plain": [
       "<Figure size 640x480 with 1 Axes>"
      ]
     },
     "metadata": {},
     "output_type": "display_data"
    }
   ],
   "source": [
    "plt.hist(data.is_clear)\n",
    "plt.xlabel(\"Класс объекта\")\n",
    "plt.ylabel(\"Кол-во объектов данного класса\")\n",
    "plt.title(\"Гистограмма отношения классов\");"
   ]
  },
  {
   "cell_type": "markdown",
   "id": "8e19986e",
   "metadata": {},
   "source": [
    "## 3. Стенография"
   ]
  },
  {
   "cell_type": "code",
   "execution_count": 13,
   "id": "a1fb9192",
   "metadata": {},
   "outputs": [],
   "source": [
    "def preprocess_images(row):\n",
    "    try:\n",
    "        image_link = row[\"picture_link\"]\n",
    "        is_clear = row[\"is_clear\"]\n",
    "\n",
    "        image = Image.open(image_link)\n",
    "        image.load()\n",
    "\n",
    "        im = Image.new('RGB', image.size, (255, 255, 255))\n",
    "        im.paste(image, None)\n",
    "        im.save(image_link)\n",
    "\n",
    "\n",
    "        secret_text = \"\"\n",
    "        new_link = \"data_prepared/\" + image_link.split(\"/\")[1].split(\".\")[0] + image_link.split(\"/\")[1].split(\".\")[1] + \".jpg\"\n",
    "        \n",
    "        if not bool(is_clear):\n",
    "            secret_text = ''.join(random.choice(string.ascii_letters) for i in range(200))\n",
    "            secret = exifHeader.hide(image_link, new_link, secret_message=secret_text)\n",
    "        \n",
    "        else:\n",
    "            image.save(new_link)\n",
    "\n",
    "        row[\"picture_link\"] = new_link \n",
    "        row[\"secret\"] = secret_text\n",
    "    except:\n",
    "        pass\n",
    "    \n",
    "    return row\n",
    "    "
   ]
  },
  {
   "cell_type": "code",
   "execution_count": 14,
   "id": "5714b541",
   "metadata": {},
   "outputs": [],
   "source": [
    "data[\"secret\"] = np.nan"
   ]
  },
  {
   "cell_type": "code",
   "execution_count": 15,
   "id": "fc111fbd",
   "metadata": {},
   "outputs": [
    {
     "name": "stderr",
     "output_type": "stream",
     "text": [
      "100%|██████████| 1600/1600 [00:12<00:00, 128.39it/s]\n"
     ]
    }
   ],
   "source": [
    "for index in tqdm(range(0, data.shape[0], 5)):\n",
    "    data[index:index + 5] = data[index:index + 5].apply(preprocess_images, axis=1)"
   ]
  },
  {
   "cell_type": "code",
   "execution_count": 16,
   "id": "8a935ea8",
   "metadata": {},
   "outputs": [
    {
     "data": {
      "text/html": [
       "<div>\n",
       "<style scoped>\n",
       "    .dataframe tbody tr th:only-of-type {\n",
       "        vertical-align: middle;\n",
       "    }\n",
       "\n",
       "    .dataframe tbody tr th {\n",
       "        vertical-align: top;\n",
       "    }\n",
       "\n",
       "    .dataframe thead th {\n",
       "        text-align: right;\n",
       "    }\n",
       "</style>\n",
       "<table border=\"1\" class=\"dataframe\">\n",
       "  <thead>\n",
       "    <tr style=\"text-align: right;\">\n",
       "      <th></th>\n",
       "      <th>picture_link</th>\n",
       "      <th>is_clear</th>\n",
       "      <th>secret</th>\n",
       "    </tr>\n",
       "  </thead>\n",
       "  <tbody>\n",
       "    <tr>\n",
       "      <th>3738</th>\n",
       "      <td>data_prepared/cat2472.jpg</td>\n",
       "      <td>1</td>\n",
       "      <td></td>\n",
       "    </tr>\n",
       "    <tr>\n",
       "      <th>270</th>\n",
       "      <td>data_prepared/dog2424.jpg</td>\n",
       "      <td>0</td>\n",
       "      <td>VTIbUjeikAKKdMzBFFzZhDqpjokGEAHdZZBBmeyXpcplCt...</td>\n",
       "    </tr>\n",
       "    <tr>\n",
       "      <th>3431</th>\n",
       "      <td>data_prepared/dog2167.jpg</td>\n",
       "      <td>0</td>\n",
       "      <td>LoZRSgSakRIwIWmvjjhAXTaMOrjMJphZAKkJBluztvEoZJ...</td>\n",
       "    </tr>\n",
       "    <tr>\n",
       "      <th>7428</th>\n",
       "      <td>data_prepared/cat2815.jpg</td>\n",
       "      <td>1</td>\n",
       "      <td></td>\n",
       "    </tr>\n",
       "    <tr>\n",
       "      <th>1828</th>\n",
       "      <td>data_prepared/dog3574.jpg</td>\n",
       "      <td>0</td>\n",
       "      <td>zBldxfmlLqFnRZCjPmsSUSAIFaOerOFVxeKAhBRytBCiRg...</td>\n",
       "    </tr>\n",
       "    <tr>\n",
       "      <th>1406</th>\n",
       "      <td>data_prepared/cat3320.jpg</td>\n",
       "      <td>1</td>\n",
       "      <td></td>\n",
       "    </tr>\n",
       "    <tr>\n",
       "      <th>7626</th>\n",
       "      <td>data_prepared/cat204.jpg</td>\n",
       "      <td>1</td>\n",
       "      <td></td>\n",
       "    </tr>\n",
       "    <tr>\n",
       "      <th>3425</th>\n",
       "      <td>data_prepared/cat94.jpg</td>\n",
       "      <td>1</td>\n",
       "      <td></td>\n",
       "    </tr>\n",
       "    <tr>\n",
       "      <th>2159</th>\n",
       "      <td>data_prepared/cat1639.jpg</td>\n",
       "      <td>1</td>\n",
       "      <td></td>\n",
       "    </tr>\n",
       "    <tr>\n",
       "      <th>6604</th>\n",
       "      <td>data_prepared/dog1340.jpg</td>\n",
       "      <td>1</td>\n",
       "      <td></td>\n",
       "    </tr>\n",
       "  </tbody>\n",
       "</table>\n",
       "</div>"
      ],
      "text/plain": [
       "                   picture_link  is_clear  \\\n",
       "3738  data_prepared/cat2472.jpg         1   \n",
       "270   data_prepared/dog2424.jpg         0   \n",
       "3431  data_prepared/dog2167.jpg         0   \n",
       "7428  data_prepared/cat2815.jpg         1   \n",
       "1828  data_prepared/dog3574.jpg         0   \n",
       "1406  data_prepared/cat3320.jpg         1   \n",
       "7626   data_prepared/cat204.jpg         1   \n",
       "3425    data_prepared/cat94.jpg         1   \n",
       "2159  data_prepared/cat1639.jpg         1   \n",
       "6604  data_prepared/dog1340.jpg         1   \n",
       "\n",
       "                                                 secret  \n",
       "3738                                                     \n",
       "270   VTIbUjeikAKKdMzBFFzZhDqpjokGEAHdZZBBmeyXpcplCt...  \n",
       "3431  LoZRSgSakRIwIWmvjjhAXTaMOrjMJphZAKkJBluztvEoZJ...  \n",
       "7428                                                     \n",
       "1828  zBldxfmlLqFnRZCjPmsSUSAIFaOerOFVxeKAhBRytBCiRg...  \n",
       "1406                                                     \n",
       "7626                                                     \n",
       "3425                                                     \n",
       "2159                                                     \n",
       "6604                                                     "
      ]
     },
     "execution_count": 16,
     "metadata": {},
     "output_type": "execute_result"
    }
   ],
   "source": [
    "data.sample(10)"
   ]
  },
  {
   "cell_type": "code",
   "execution_count": 17,
   "id": "15a39944",
   "metadata": {},
   "outputs": [
    {
     "name": "stdout",
     "output_type": "stream",
     "text": [
      "b'VTIbUjeikAKKdMzBFFzZhDqpjokGEAHdZZBBmeyXpcplCtGhWXsGAPlxqQHyuOHKixIAlBLPCdpjsChmFwqCoinNHeHJyGZVUALIprEqWRBiTNOHoIJvwusHZUZXPlICethmijPysMTjSFtjgOulCyCMykculUiPJnZEOVlZAhCdmNxSnYDpbOWHunVLfLblDrGkRMjW' (64, 64)\n"
     ]
    }
   ],
   "source": [
    "print(exifHeader.reveal(\"data_prepared/dog2424.jpg\"), Image.open(\"data_prepared/dog2424.jpg\").size)"
   ]
  },
  {
   "cell_type": "code",
   "execution_count": 18,
   "id": "0ccb4f3a",
   "metadata": {},
   "outputs": [],
   "source": [
    "data.to_csv(\"data_marked.csv\", index=False)"
   ]
  },
  {
   "cell_type": "markdown",
   "id": "04ba107f",
   "metadata": {},
   "source": [
    "## DataLoader"
   ]
  },
  {
   "cell_type": "code",
   "execution_count": 19,
   "id": "2fa02265",
   "metadata": {},
   "outputs": [],
   "source": [
    "class Dataset(Dataset):\n",
    "    \"\"\"Описантельный класс датасета для удобной работы с ним\"\"\"\n",
    "\n",
    "    def __init__(self, csv_file=None, transform=None):\n",
    "        \"\"\"\n",
    "            Args:\n",
    "                csv_file (string): Путь к csv файлу с разметкой\n",
    "                transform (callable, optional): Опционально, трансформации применяемые к картинкам\n",
    "        \"\"\"\n",
    "        \n",
    "        self.annotations = pd.read_csv(csv_file)\n",
    "        self.transform = transform\n",
    "\n",
    "    def __len__(self):\n",
    "        return self.annotations.shape[0]\n",
    "    \n",
    "    def __getitem__(self, idx):\n",
    "        if torch.is_tensor(idx):\n",
    "            idx = idx.tolist()\n",
    "        \n",
    "        img_info = self.annotations.iloc[idx]\n",
    "        image = io.imread(img_info[0])\n",
    "        label = img_info[1]\n",
    "        \n",
    "        if self.transform:\n",
    "            image = self.transform(image)\n",
    "\n",
    "        if len(image.shape) == 2 or image.shape[0] == 1: # если черно-белая\n",
    "            image = image.repeat( 3, 1, 1)\n",
    "            \n",
    "        sample = image, label\n",
    "\n",
    "        return sample"
   ]
  },
  {
   "cell_type": "code",
   "execution_count": 24,
   "id": "5d33895f",
   "metadata": {},
   "outputs": [],
   "source": [
    "transform = transforms.Compose([transforms.ToPILImage(), transforms.Resize((64, 64)), transforms.ToTensor()])\n",
    "train_dataset = Dataset(csv_file='data_marked.csv', transform=transform)\n",
    "\n",
    "part = np.arange(0, int(len(train_dataset) * 0.8))\n",
    "val_part = np.arange(int(len(train_dataset) * 0.8), len(train_dataset))\n",
    "\n",
    "sampler_to_train = torch.utils.data.SubsetRandomSampler(part)\n",
    "sampler_to_val = torch.utils.data.SubsetRandomSampler(val_part)"
   ]
  },
  {
   "cell_type": "code",
   "execution_count": 25,
   "id": "c6442e87",
   "metadata": {},
   "outputs": [],
   "source": [
    "train_loader = DataLoader(train_dataset, batch_size=64, sampler=sampler_to_train) \n",
    "validate_loader = DataLoader(train_dataset, batch_size=64, sampler=sampler_to_val)"
   ]
  },
  {
   "cell_type": "code",
   "execution_count": 26,
   "id": "67794b15",
   "metadata": {},
   "outputs": [
    {
     "name": "stdout",
     "output_type": "stream",
     "text": [
      "torch.Size([64, 3, 64, 64]) tensor([0, 1, 0, 1, 0, 1, 1, 1, 1, 1, 1, 1, 0, 1, 1, 1, 0, 1, 0, 0, 0, 1, 1, 1,\n",
      "        0, 1, 1, 1, 0, 1, 1, 1, 1, 0, 0, 0, 1, 0, 1, 1, 1, 1, 0, 1, 1, 1, 1, 0,\n",
      "        1, 1, 0, 1, 1, 1, 0, 0, 1, 0, 1, 1, 1, 1, 1, 1])\n"
     ]
    },
    {
     "data": {
      "image/png": "[encoded data removed]",
      "text/plain": [
       "<Figure size 640x480 with 1 Axes>"
      ]
     },
     "metadata": {},
     "output_type": "display_data"
    }
   ],
   "source": [
    "for image, label in train_loader:\n",
    "    print(image.shape, label)\n",
    "    plt.imshow(image[0].transpose(0, -1).transpose(1, 0))\n",
    "    plt.title(label[0])\n",
    "    plt.show();\n",
    "    break"
   ]
  },
  {
   "cell_type": "markdown",
   "id": "75e81211",
   "metadata": {},
   "source": [
    "## Нейросеть"
   ]
  },
  {
   "cell_type": "code",
   "execution_count": 114,
   "id": "e241d7b8",
   "metadata": {},
   "outputs": [],
   "source": [
    "def gaussian(inp: torch.Tensor) -> torch.Tensor:\n",
    "    \"\"\"Считает гауссову функцию для каждого входного тензора\n",
    "    Args:\n",
    "            inp (torch.Tensor): входной тензор\n",
    "    Returns:\n",
    "            torch.Tensor: тензор после применения Гаусса\n",
    "    \"\"\"\n",
    "    \n",
    "    return torch.exp(-((inp - torch.mean(inp)) ** 2) / (torch.std(inp)) ** 2) "
   ]
  },
  {
   "cell_type": "code",
   "execution_count": 98,
   "id": "63beb2d6",
   "metadata": {},
   "outputs": [],
   "source": [
    "class Net:\n",
    "    def __init__(self, lr=2e-2, epoch=2):\n",
    "        self.model = nn.Sequential(\n",
    "                \n",
    "            nn.Conv2d(3, 16, kernel_size=(5, 5)),            \n",
    "            nn.BatchNorm2d(16),\n",
    "            GaussianActivation(),\n",
    "            \n",
    "            nn.AvgPool2d(kernel_size=(3, 3), stride=2),\n",
    "            \n",
    "            nn.Conv2d(16, 64, kernel_size=(3, 3)),            \n",
    "            nn.BatchNorm2d(64),\n",
    "            nn.ReLU(),\n",
    "            \n",
    "            nn.AvgPool2d(kernel_size=(3, 3), stride=2),\n",
    "            \n",
    "            nn.Conv2d(64, 128, kernel_size=(3, 3)),            \n",
    "            nn.BatchNorm2d(128),\n",
    "            nn.ReLU(),\n",
    "            \n",
    "            nn.Flatten(),\n",
    "            \n",
    "            nn.Linear(15488, 5096),\n",
    "            nn.ReLU(),\n",
    "\n",
    "            nn.Linear(5096, 2048),\n",
    "            nn.ReLU(),\n",
    "\n",
    "            nn.Linear(2048, 512),\n",
    "            nn.ReLU(),\n",
    "            \n",
    "            nn.Linear(512, 128),\n",
    "            nn.ReLU(),\n",
    "            \n",
    "            nn.Linear(128, 64),\n",
    "            nn.ReLU(),\n",
    "            \n",
    "            nn.Linear(64, 2),\n",
    "            nn.Softmax(dim=-1)\n",
    "        )\n",
    "        \n",
    "        self.optimizer = torch.optim.Adam(self.model.parameters(), lr=lr)\n",
    "        self.epoch = epoch        "
   ]
  },
  {
   "cell_type": "code",
   "execution_count": 153,
   "id": "d0c60290",
   "metadata": {},
   "outputs": [],
   "source": [
    "class ImageProcessing(nn.Module):\n",
    "    \"\"\"Считает светку с помощью использования пространственного фильтра высоких частот с фиксированным ядром\"\"\"\n",
    "\n",
    "    def __init__(self) -> None:\n",
    "        super().__init__()\n",
    "        self.kv_filter = (\n",
    "            torch.tensor([\n",
    "                [\n",
    "                    [-1.0, 2.0, -2.0, 2.0, -1.0],\n",
    "                    [2.0, -6.0, 8.0, -6.0, 2.0],\n",
    "                    [-2.0, 8.0, -12.0, 8.0, -2.0],\n",
    "                    [2.0, -6.0, 8.0, -6.0, 2.0],\n",
    "                    [-1.0, 2.0, -2.0, 2.0, -1.0],\n",
    "                ],\n",
    "                [\n",
    "                    [-1.0, 2.0, -2.0, 2.0, -1.0],\n",
    "                    [2.0, -6.0, 8.0, -6.0, 2.0],\n",
    "                    [-2.0, 8.0, -12.0, 8.0, -2.0],\n",
    "                    [2.0, -6.0, 8.0, -6.0, 2.0],\n",
    "                    [-1.0, 2.0, -2.0, 2.0, -1.0],\n",
    "                ],\n",
    "                [\n",
    "                    [-1.0, 2.0, -2.0, 2.0, -1.0],\n",
    "                    [2.0, -6.0, 8.0, -6.0, 2.0],\n",
    "                    [-2.0, 8.0, -12.0, 8.0, -2.0],\n",
    "                    [2.0, -6.0, 8.0, -6.0, 2.0],\n",
    "                    [-1.0, 2.0, -2.0, 2.0, -1.0],\n",
    "                ],\n",
    "            ]\n",
    "            ).view(1, 3, 5, 5))\n",
    "\n",
    "    def forward(self, inp: torch.Tensor) -> torch.Tensor:\n",
    "        \"\"\"Возвращает тензор, над которым была произведена свертка\"\"\"\n",
    "\n",
    "        return F.conv2d(inp, self.kv_filter)"
   ]
  },
  {
   "cell_type": "code",
   "execution_count": 154,
   "id": "fc093591",
   "metadata": {},
   "outputs": [],
   "source": [
    "class ConvPool(nn.Module):\n",
    "    \"\"\"\n",
    "        Данный класс возвращает экземпляр свертки, выстроенной по необходимым параметрам, \n",
    "        то есть  схема данного блока это conv -> batch norm -> gaussian -> average pooling\n",
    "    \"\"\"\n",
    "\n",
    "    def __init__(\n",
    "            self,\n",
    "            in_channels: int = 16,\n",
    "            out_channels: int = 32,\n",
    "            conv_kernel_size: tuple[int, int] = (3, 3),\n",
    "            conv_stride: int = 1,\n",
    "            pool_stride: int = 2,\n",
    "            pool_kernel_size: tuple[int, int] = (3, 3),\n",
    "            pool_padding: int = 0,\n",
    "            activation_function = None\n",
    "        ) -> None:\n",
    "        super().__init__()\n",
    "        self.conv = nn.Conv2d(\n",
    "            in_channels=in_channels,\n",
    "            out_channels=out_channels,\n",
    "            kernel_size=conv_kernel_size,\n",
    "            stride=conv_stride,\n",
    "            padding=0,\n",
    "            bias=True,\n",
    "        )\n",
    "        self.pool = nn.AvgPool2d(kernel_size=pool_kernel_size, stride=pool_stride, padding=pool_padding)\n",
    "        self.bn = nn.BatchNorm2d(out_channels)\n",
    "        self.activation_function = activation_function\n",
    "        \n",
    "    def forward(self, inp: torch.Tensor) -> torch.Tensor:\n",
    "        \"\"\"Соответсвенно conv->batch norm->activation->average pooling.\"\"\"\n",
    "        if self.activation_function is None:\n",
    "            return self.pool(gaussian(self.bn(self.conv(inp))))\n",
    "        \n",
    "        return self.pool(self.activation_function(self.bn(self.conv(inp))))\n",
    "        "
   ]
  },
  {
   "cell_type": "code",
   "execution_count": 172,
   "id": "b57dce7f",
   "metadata": {},
   "outputs": [],
   "source": [
    "class CNN(nn.Module):\n",
    "    \"\"\"\n",
    "        Реализация сверточной нейронной сети\n",
    "    \"\"\"\n",
    "\n",
    "    def __init__(self) -> None:\n",
    "        super().__init__()\n",
    "        self.layer1 = ConvPool(in_channels=1, out_channels=16,  conv_kernel_size=(5, 5), pool_kernel_size=(3,3))\n",
    "        self.layer2 = ConvPool(in_channels=16, out_channels=64, conv_kernel_size=(3, 3), activation_function=nn.ReLU())\n",
    "        self.layer3 = ConvPool(in_channels=64, out_channels=128, conv_kernel_size=(3, 3), activation_function=nn.ReLU())\n",
    "        \n",
    "        self.fully_connected = nn.Sequential(\n",
    "            nn.Linear(in_features=100352, out_features=128),\n",
    "            nn.ReLU(inplace=True),\n",
    "            nn.Linear(in_features=128, out_features=128),\n",
    "            nn.ReLU(inplace=True),\n",
    "            nn.Linear(in_features=128, out_features=2),\n",
    "            nn.Softmax(dim=1),\n",
    "        )\n",
    "\n",
    "    def forward(self, image: torch.Tensor) -> torch.Tensor:\n",
    "        \"\"\"Вернет логиты для данного изображения\"\"\"\n",
    "        with torch.no_grad():\n",
    "            out = ImageProcessing()(image)\n",
    "        out = self.layer1(out)\n",
    "        out = self.layer2(out)\n",
    "        out = self.layer3(out)\n",
    "        out = out.view(out.size(0), -1)\n",
    "        out = self.fully_connected(out)\n",
    "        return out"
   ]
  },
  {
   "cell_type": "code",
   "execution_count": 173,
   "id": "8766634a",
   "metadata": {},
   "outputs": [
    {
     "data": {
      "text/plain": [
       "tensor([[0.5346, 0.4654]], grad_fn=<SoftmaxBackward0>)"
      ]
     },
     "execution_count": 173,
     "metadata": {},
     "output_type": "execute_result"
    }
   ],
   "source": [
    "net = CNN()\n",
    "inp_image = torch.randn((1, 3, 256, 256))\n",
    "net(inp_image)"
   ]
  },
  {
   "cell_type": "code",
   "execution_count": null,
   "id": "f41de173",
   "metadata": {},
   "outputs": [],
   "source": []
  }
 ],
 "metadata": {
  "kernelspec": {
   "display_name": "Python 3 (ipykernel)",
   "language": "python",
   "name": "python3"
  },
  "language_info": {
   "codemirror_mode": {
    "name": "ipython",
    "version": 3
   },
   "file_extension": ".py",
   "mimetype": "text/x-python",
   "name": "python",
   "nbconvert_exporter": "python",
   "pygments_lexer": "ipython3",
   "version": "3.9.13"
  }
 },
 "nbformat": 4,
 "nbformat_minor": 5
}
